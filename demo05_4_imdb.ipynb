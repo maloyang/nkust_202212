{
 "cells": [
  {
   "cell_type": "markdown",
   "metadata": {
    "id": "zz68tYqgD6bm"
   },
   "source": [
    "# Demo2:分類電影評論 - 二元分類範例"
   ]
  },
  {
   "cell_type": "markdown",
   "metadata": {
    "id": "ZYBFIo_BjhQL"
   },
   "source": [
    "### 載入 IMDB 資料集"
   ]
  },
  {
   "cell_type": "code",
   "execution_count": 27,
   "metadata": {
    "id": "PHzNAmaBi9HT"
   },
   "outputs": [],
   "source": [
    "from tensorflow.keras.datasets import imdb  #從 keras.datasets 套件中匯入 imdb 資料\n",
    "\n",
    "(train_data, train_labels),(test_data, test_labels)= imdb.load_data(\n",
    "    num_words=10000)  #從 imdb 中讀取, 只有在訓練集當中最常用的前 10,000 個單字才會被載入, 分別存入 (訓練資料, 訓練標籤) 和 (測試資料, 測試標籤)"
   ]
  },
  {
   "cell_type": "code",
   "execution_count": 28,
   "metadata": {
    "colab": {
     "base_uri": "https://localhost:8080/"
    },
    "collapsed": true,
    "id": "quDUGeZLjVRA",
    "jupyter": {
     "outputs_hidden": true
    },
    "outputId": "253b8d13-c2ba-4a5e-9fb1-6f5101502ed4",
    "tags": []
   },
   "outputs": [
    {
     "data": {
      "text/plain": [
       "[1,\n",
       " 14,\n",
       " 22,\n",
       " 16,\n",
       " 43,\n",
       " 530,\n",
       " 973,\n",
       " 1622,\n",
       " 1385,\n",
       " 65,\n",
       " 458,\n",
       " 4468,\n",
       " 66,\n",
       " 3941,\n",
       " 4,\n",
       " 173,\n",
       " 36,\n",
       " 256,\n",
       " 5,\n",
       " 25,\n",
       " 100,\n",
       " 43,\n",
       " 838,\n",
       " 112,\n",
       " 50,\n",
       " 670,\n",
       " 2,\n",
       " 9,\n",
       " 35,\n",
       " 480,\n",
       " 284,\n",
       " 5,\n",
       " 150,\n",
       " 4,\n",
       " 172,\n",
       " 112,\n",
       " 167,\n",
       " 2,\n",
       " 336,\n",
       " 385,\n",
       " 39,\n",
       " 4,\n",
       " 172,\n",
       " 4536,\n",
       " 1111,\n",
       " 17,\n",
       " 546,\n",
       " 38,\n",
       " 13,\n",
       " 447,\n",
       " 4,\n",
       " 192,\n",
       " 50,\n",
       " 16,\n",
       " 6,\n",
       " 147,\n",
       " 2025,\n",
       " 19,\n",
       " 14,\n",
       " 22,\n",
       " 4,\n",
       " 1920,\n",
       " 4613,\n",
       " 469,\n",
       " 4,\n",
       " 22,\n",
       " 71,\n",
       " 87,\n",
       " 12,\n",
       " 16,\n",
       " 43,\n",
       " 530,\n",
       " 38,\n",
       " 76,\n",
       " 15,\n",
       " 13,\n",
       " 1247,\n",
       " 4,\n",
       " 22,\n",
       " 17,\n",
       " 515,\n",
       " 17,\n",
       " 12,\n",
       " 16,\n",
       " 626,\n",
       " 18,\n",
       " 2,\n",
       " 5,\n",
       " 62,\n",
       " 386,\n",
       " 12,\n",
       " 8,\n",
       " 316,\n",
       " 8,\n",
       " 106,\n",
       " 5,\n",
       " 4,\n",
       " 2223,\n",
       " 5244,\n",
       " 16,\n",
       " 480,\n",
       " 66,\n",
       " 3785,\n",
       " 33,\n",
       " 4,\n",
       " 130,\n",
       " 12,\n",
       " 16,\n",
       " 38,\n",
       " 619,\n",
       " 5,\n",
       " 25,\n",
       " 124,\n",
       " 51,\n",
       " 36,\n",
       " 135,\n",
       " 48,\n",
       " 25,\n",
       " 1415,\n",
       " 33,\n",
       " 6,\n",
       " 22,\n",
       " 12,\n",
       " 215,\n",
       " 28,\n",
       " 77,\n",
       " 52,\n",
       " 5,\n",
       " 14,\n",
       " 407,\n",
       " 16,\n",
       " 82,\n",
       " 2,\n",
       " 8,\n",
       " 4,\n",
       " 107,\n",
       " 117,\n",
       " 5952,\n",
       " 15,\n",
       " 256,\n",
       " 4,\n",
       " 2,\n",
       " 7,\n",
       " 3766,\n",
       " 5,\n",
       " 723,\n",
       " 36,\n",
       " 71,\n",
       " 43,\n",
       " 530,\n",
       " 476,\n",
       " 26,\n",
       " 400,\n",
       " 317,\n",
       " 46,\n",
       " 7,\n",
       " 4,\n",
       " 2,\n",
       " 1029,\n",
       " 13,\n",
       " 104,\n",
       " 88,\n",
       " 4,\n",
       " 381,\n",
       " 15,\n",
       " 297,\n",
       " 98,\n",
       " 32,\n",
       " 2071,\n",
       " 56,\n",
       " 26,\n",
       " 141,\n",
       " 6,\n",
       " 194,\n",
       " 7486,\n",
       " 18,\n",
       " 4,\n",
       " 226,\n",
       " 22,\n",
       " 21,\n",
       " 134,\n",
       " 476,\n",
       " 26,\n",
       " 480,\n",
       " 5,\n",
       " 144,\n",
       " 30,\n",
       " 5535,\n",
       " 18,\n",
       " 51,\n",
       " 36,\n",
       " 28,\n",
       " 224,\n",
       " 92,\n",
       " 25,\n",
       " 104,\n",
       " 4,\n",
       " 226,\n",
       " 65,\n",
       " 16,\n",
       " 38,\n",
       " 1334,\n",
       " 88,\n",
       " 12,\n",
       " 16,\n",
       " 283,\n",
       " 5,\n",
       " 16,\n",
       " 4472,\n",
       " 113,\n",
       " 103,\n",
       " 32,\n",
       " 15,\n",
       " 16,\n",
       " 5345,\n",
       " 19,\n",
       " 178,\n",
       " 32]"
      ]
     },
     "execution_count": 28,
     "metadata": {},
     "output_type": "execute_result"
    }
   ],
   "source": [
    "train_data[0]  #取第 0 篇評論"
   ]
  },
  {
   "cell_type": "code",
   "execution_count": 29,
   "metadata": {
    "colab": {
     "base_uri": "https://localhost:8080/"
    },
    "id": "GKMMh0N4jgLl",
    "outputId": "576f1124-d993-44b7-ce0d-cf8d4d9096c6"
   },
   "outputs": [
    {
     "data": {
      "text/plain": [
       "1"
      ]
     },
     "execution_count": 29,
     "metadata": {},
     "output_type": "execute_result"
    }
   ],
   "source": [
    "train_labels[0]  #第 0 篇評論的評價 : 1=正評；0=負評"
   ]
  },
  {
   "cell_type": "code",
   "execution_count": 36,
   "metadata": {
    "colab": {
     "base_uri": "https://localhost:8080/"
    },
    "id": "d-jBH9ATvnyQ",
    "outputId": "27ff41ec-aa0e-495e-e260-780a478bda0f"
   },
   "outputs": [
    {
     "name": "stdout",
     "output_type": "stream",
     "text": [
      "25000 [1 0 0 ... 0 1 0]\n"
     ]
    }
   ],
   "source": [
    "print(len(train_labels), train_labels)"
   ]
  },
  {
   "cell_type": "markdown",
   "metadata": {
    "id": "2Dz6eAaRnVCj"
   },
   "source": [
    "### 將整數 list 編碼成二元矩陣"
   ]
  },
  {
   "cell_type": "code",
   "execution_count": 37,
   "metadata": {
    "id": "ESlpNhqJnmBk"
   },
   "outputs": [],
   "source": [
    "import numpy as np  #匯入 numpy 模組, 後續程式以 np 使用\n",
    "\n",
    "def vectorize_sequences(sequences, dimension=10000):  #sequences 將傳入 train_data\n",
    "    results = np.zeros((len(sequences), dimension))\n",
    "    for i, sequence in enumerate(sequences):  #用 enumerate 取元素值\n",
    "        results[i, sequence] = 1.   #將 result[i] 特定索引值的數值設定為 1\n",
    "    return results\n",
    "    \n",
    "x_train = vectorize_sequences(train_data)  #向量化訓練資料\n",
    "x_test = vectorize_sequences(test_data)  #向量化測試資料"
   ]
  },
  {
   "cell_type": "code",
   "execution_count": 38,
   "metadata": {
    "colab": {
     "base_uri": "https://localhost:8080/"
    },
    "id": "GNo739uToYt-",
    "outputId": "e1b8d1f2-7365-4de6-a53b-88d6d4e56710"
   },
   "outputs": [
    {
     "data": {
      "text/plain": [
       "(10000, array([0., 1., 1., ..., 0., 0., 0.]))"
      ]
     },
     "execution_count": 38,
     "metadata": {},
     "output_type": "execute_result"
    }
   ],
   "source": [
    "len(x_train[0]), x_train[0]"
   ]
  },
  {
   "cell_type": "code",
   "execution_count": 39,
   "metadata": {
    "id": "HzOAc7QIobkr"
   },
   "outputs": [],
   "source": [
    "y_train = np.asarray(train_labels).astype('float32')  #向量化訓練標籤\n",
    "y_test = np.asarray(test_labels).astype('float32')  #向量化測試標籤"
   ]
  },
  {
   "cell_type": "markdown",
   "metadata": {
    "id": "qTO4QxZ1pn6D"
   },
   "source": [
    "### 建立模型"
   ]
  },
  {
   "cell_type": "code",
   "execution_count": 40,
   "metadata": {
    "id": "RTEf9Qbmpnl0"
   },
   "outputs": [],
   "source": [
    "from tensorflow.keras import models\n",
    "from tensorflow.keras import layers\n",
    "\n",
    "model = models.Sequential()  #使用 models 模組的 Sequential 類別, 建立一個物件讓新增的神經網路層可以進行堆疊\n",
    "model.add(layers.Dense(16, activation='relu', input_shape=(10000, )))  #輸入層\n",
    "model.add(layers.Dense(16, activation='relu'))  #隱藏層\n",
    "model.add(layers.Dense(1, activation='sigmoid'))  #輸出層"
   ]
  },
  {
   "cell_type": "markdown",
   "metadata": {
    "id": "UKXQBXMwJJe9"
   },
   "source": [
    "### 編譯模型"
   ]
  },
  {
   "cell_type": "code",
   "execution_count": 41,
   "metadata": {
    "id": "9Q7qqAzbJVAE"
   },
   "outputs": [],
   "source": [
    "from tensorflow.keras import optimizers\n",
    "\n",
    "model.compile(optimizer='rmsprop',\n",
    "              loss='binary_crossentropy',\n",
    "              metrics=['acc'])  #建立訓練模型\n"
   ]
  },
  {
   "cell_type": "markdown",
   "metadata": {
    "id": "bdBjsKB4JjkF"
   },
   "source": [
    "### 設定驗證資料集"
   ]
  },
  {
   "cell_type": "code",
   "execution_count": 42,
   "metadata": {
    "id": "B-w9TPv3JipV"
   },
   "outputs": [],
   "source": [
    "x_val = x_train[:10000]  #取輸入資料的前 10000 個做驗證 (val)\n",
    "partial_x_train = x_train[10000:]  #輸入資料的第 10000 個開始才是訓練資料\n",
    "y_val = y_train[:10000]  #對應的, 要取標籤的前 10000 個做為驗證標籤\n",
    "partial_y_train = y_train[10000:]  #從標籤的第 10000 個開始才是訓練資料的標籤"
   ]
  },
  {
   "cell_type": "markdown",
   "metadata": {
    "id": "VnlH_4IEJhoE"
   },
   "source": [
    "### 訓練模型"
   ]
  },
  {
   "cell_type": "code",
   "execution_count": 43,
   "metadata": {
    "colab": {
     "base_uri": "https://localhost:8080/"
    },
    "id": "50j32lLnKb4z",
    "outputId": "407404b2-63fa-4cb8-d254-8e54e3268e79"
   },
   "outputs": [
    {
     "name": "stdout",
     "output_type": "stream",
     "text": [
      "Epoch 1/20\n",
      "30/30 [==============================] - 3s 89ms/step - loss: 0.5137 - acc: 0.7858 - val_loss: 0.3875 - val_acc: 0.8679\n",
      "Epoch 2/20\n",
      "30/30 [==============================] - 1s 45ms/step - loss: 0.2995 - acc: 0.9041 - val_loss: 0.3074 - val_acc: 0.8832\n",
      "Epoch 3/20\n",
      "30/30 [==============================] - 1s 41ms/step - loss: 0.2197 - acc: 0.9277 - val_loss: 0.2919 - val_acc: 0.8852\n",
      "Epoch 4/20\n",
      "30/30 [==============================] - 1s 47ms/step - loss: 0.1716 - acc: 0.9423 - val_loss: 0.2731 - val_acc: 0.8887\n",
      "Epoch 5/20\n",
      "30/30 [==============================] - 1s 41ms/step - loss: 0.1418 - acc: 0.9528 - val_loss: 0.2956 - val_acc: 0.8834\n",
      "Epoch 6/20\n",
      "30/30 [==============================] - 1s 46ms/step - loss: 0.1155 - acc: 0.9639 - val_loss: 0.2987 - val_acc: 0.8837\n",
      "Epoch 7/20\n",
      "30/30 [==============================] - 1s 47ms/step - loss: 0.0951 - acc: 0.9707 - val_loss: 0.3392 - val_acc: 0.8748\n",
      "Epoch 8/20\n",
      "30/30 [==============================] - 2s 58ms/step - loss: 0.0823 - acc: 0.9759 - val_loss: 0.3363 - val_acc: 0.8798\n",
      "Epoch 9/20\n",
      "30/30 [==============================] - 1s 39ms/step - loss: 0.0642 - acc: 0.9829 - val_loss: 0.3658 - val_acc: 0.8761\n",
      "Epoch 10/20\n",
      "30/30 [==============================] - 1s 37ms/step - loss: 0.0542 - acc: 0.9856 - val_loss: 0.3898 - val_acc: 0.8783\n",
      "Epoch 11/20\n",
      "30/30 [==============================] - 1s 42ms/step - loss: 0.0455 - acc: 0.9883 - val_loss: 0.4493 - val_acc: 0.8725\n",
      "Epoch 12/20\n",
      "30/30 [==============================] - 1s 39ms/step - loss: 0.0371 - acc: 0.9911 - val_loss: 0.4414 - val_acc: 0.8744\n",
      "Epoch 13/20\n",
      "30/30 [==============================] - 1s 47ms/step - loss: 0.0284 - acc: 0.9943 - val_loss: 0.4691 - val_acc: 0.8726\n",
      "Epoch 14/20\n",
      "30/30 [==============================] - 1s 48ms/step - loss: 0.0221 - acc: 0.9961 - val_loss: 0.5063 - val_acc: 0.8714\n",
      "Epoch 15/20\n",
      "30/30 [==============================] - 1s 41ms/step - loss: 0.0178 - acc: 0.9969 - val_loss: 0.5545 - val_acc: 0.8700\n",
      "Epoch 16/20\n",
      "30/30 [==============================] - 1s 46ms/step - loss: 0.0170 - acc: 0.9963 - val_loss: 0.5802 - val_acc: 0.8693\n",
      "Epoch 17/20\n",
      "30/30 [==============================] - 1s 48ms/step - loss: 0.0148 - acc: 0.9975 - val_loss: 0.6142 - val_acc: 0.8687\n",
      "Epoch 18/20\n",
      "30/30 [==============================] - 2s 59ms/step - loss: 0.0068 - acc: 0.9998 - val_loss: 0.6423 - val_acc: 0.8671\n",
      "Epoch 19/20\n",
      "30/30 [==============================] - 1s 44ms/step - loss: 0.0110 - acc: 0.9975 - val_loss: 0.6747 - val_acc: 0.8674\n",
      "Epoch 20/20\n",
      "30/30 [==============================] - 2s 55ms/step - loss: 0.0041 - acc: 0.9999 - val_loss: 0.7134 - val_acc: 0.8625\n"
     ]
    }
   ],
   "source": [
    "#呼叫 fit() 開始訓練 (使用 partial_x_train 輸入資料、 partial_y_train 標籤、20 個訓練週期、一次訓練週期使用 512 筆資料\n",
    "history = model.fit(partial_x_train,\n",
    "                    partial_y_train,\n",
    "                    epochs=20,\n",
    "                    batch_size=512,\n",
    "                    validation_data=(x_val, y_val))  #同時傳入驗證集的資料與標籤"
   ]
  },
  {
   "cell_type": "code",
   "execution_count": 44,
   "metadata": {
    "colab": {
     "base_uri": "https://localhost:8080/"
    },
    "id": "ocxIAzz6NilK",
    "outputId": "f1d28fdb-44b8-4b57-9e54-5a8b552b94be"
   },
   "outputs": [
    {
     "data": {
      "text/plain": [
       "dict_keys(['loss', 'acc', 'val_loss', 'val_acc'])"
      ]
     },
     "execution_count": 44,
     "metadata": {},
     "output_type": "execute_result"
    }
   ],
   "source": [
    "history_dict = history.history\n",
    "history_dict.keys()"
   ]
  },
  {
   "cell_type": "markdown",
   "metadata": {
    "id": "ZM5YY3aONid8"
   },
   "source": [
    "### 程式 3.9 繪製訓練與驗證的損失分數"
   ]
  },
  {
   "cell_type": "code",
   "execution_count": null,
   "metadata": {
    "colab": {
     "base_uri": "https://localhost:8080/",
     "height": 295
    },
    "id": "xV6OQuL-NiXL",
    "outputId": "fcd477c8-0b0b-43b3-80d2-cee09f66e0ea"
   },
   "outputs": [
    {
     "data": {
      "image/png": "[encoded data removed]",
      "text/plain": [
       "<Figure size 640x480 with 1 Axes>"
      ]
     },
     "metadata": {},
     "output_type": "display_data"
    }
   ],
   "source": [
    "import matplotlib.pyplot as plt  #匯入 matplotlib.pyplot 模組, 後續程式用 plt 使用\n",
    "\n",
    "history_dict = history.history\n",
    "loss_values = history_dict['loss']  #取得每次訓練的 loss 訓練損失分數並存成 loss_values 變數\n",
    "val_loss_values = history_dict['val_loss']  #取得每次驗證的 val_loss 驗證損失分數並指定給 val_loss_values 變數\n",
    "\n",
    "\n",
    "epochs = range(1, len(loss_values)+ 1)  #len(loss_values) 項目個數為 20,範圍從 1 到 21 (不含 21) 的期間\n",
    "\n",
    "plt.plot(epochs, loss_values, 'go', label='Training loss')  #以 'b' 指定用藍色線條畫出 x 軸為訓練週期、y 軸為驗證損失分數的圖表, 標籤設為驗證損失分數\n",
    "plt.plot(epochs, val_loss_values, 'b--.', label='Validation loss')  #以 'bo' 指定用藍色點點畫出 x 軸為訓練週期、y 軸為訓練損失分數的圖表, 標籤設為訓練損失分數\n",
    "plt.title('Training and validation loss')\n",
    "plt.xlabel('Epochs')  #將此圖表標題的 x 軸設為訓練週期分數\n",
    "plt.ylabel('Loss')  #將此圖表標題的 y 軸設為損失\n",
    "plt.legend()  #可以追加每個輸出圖表的圖像名稱\n",
    "\n",
    "plt.show()  #顯示圖表"
   ]
  },
  {
   "cell_type": "markdown",
   "metadata": {
    "id": "tuZ3Iis2NiQL"
   },
   "source": [
    "### 程式 3.10 繪製訓練和驗證的準確度"
   ]
  },
  {
   "cell_type": "code",
   "execution_count": null,
   "metadata": {
    "colab": {
     "base_uri": "https://localhost:8080/",
     "height": 295
    },
    "id": "MC1Au20PNiJ8",
    "outputId": "1e24de1c-6add-496b-b6f6-a7c529fae46b"
   },
   "outputs": [
    {
     "data": {
      "image/png": "[encoded data removed]",
      "text/plain": [
       "<Figure size 640x480 with 1 Axes>"
      ]
     },
     "metadata": {},
     "output_type": "display_data"
    }
   ],
   "source": [
    "plt.clf()  #清除圖表\n",
    "acc = history_dict['acc']\n",
    "val_acc = history_dict['val_acc']\n",
    "\n",
    "plt.plot(epochs, acc, 'go', label='Training acc')\n",
    "plt.plot(epochs, val_acc, 'b--.', label='Validation acc')\n",
    "plt.title('Training and validation accuracy')\n",
    "plt.xlabel('Epochs')\n",
    "plt.ylabel('Accuracy')\n",
    "plt.legend()\n",
    "\n",
    "plt.show()"
   ]
  },
  {
   "cell_type": "code",
   "execution_count": null,
   "metadata": {
    "id": "lnkJYADMKdN-"
   },
   "outputs": [],
   "source": []
  }
 ],
 "metadata": {
  "colab": {
   "collapsed_sections": [],
   "name": "demo2_.ipynb",
   "provenance": []
  },
  "gpuClass": "standard",
  "kernelspec": {
   "display_name": "Python 3 (ipykernel)",
   "language": "python",
   "name": "python3"
  },
  "language_info": {
   "codemirror_mode": {
    "name": "ipython",
    "version": 3
   },
   "file_extension": ".py",
   "mimetype": "text/x-python",
   "name": "python",
   "nbconvert_exporter": "python",
   "pygments_lexer": "ipython3",
   "version": "3.9.7"
  }
 },
 "nbformat": 4,
 "nbformat_minor": 4
}
